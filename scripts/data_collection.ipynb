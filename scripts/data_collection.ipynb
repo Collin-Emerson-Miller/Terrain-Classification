{
 "cells": [
  {
   "cell_type": "code",
   "execution_count": 1,
   "metadata": {},
   "outputs": [],
   "source": [
    "import cv2"
   ]
  },
  {
   "cell_type": "code",
   "execution_count": 11,
   "metadata": {},
   "outputs": [],
   "source": [
    "# Function to extract frames \n",
    "def FrameCapture(path): \n",
    "      \n",
    "    # Path to video file \n",
    "    vidObj = cv2.VideoCapture(path) \n",
    "  \n",
    "    # Used as counter variable \n",
    "    count = 0\n",
    "  \n",
    "    # checks whether frames were extracted \n",
    "    success = 1\n",
    "  \n",
    "    while success: \n",
    "  \n",
    "        # vidObj object calls read \n",
    "        # function extract frames \n",
    "        success, image = vidObj.read()\n",
    "        getcount = \"%04d\" % count\n",
    "        name = \"sand_1_\" + getcount\n",
    "        \n",
    "  \n",
    "        # Saves the frames with frame-count \n",
    "        cv2.imwrite(\"/home/phu/Documents/sand_1/\" + name + \".jpg\", image) \n",
    "  \n",
    "        count += 1\n",
    "        if count == 1000:\n",
    "            break\n",
    "  \n",
    "# Driver Code \n",
    "if __name__ == '__main__': \n",
    "  \n",
    "    # Calling the function \n",
    "    FrameCapture(\"/home/phu/Documents/sand_1/sand_1.mp4\") "
   ]
  }
 ],
 "metadata": {
  "kernelspec": {
   "display_name": "Python 3",
   "language": "python",
   "name": "python3"
  },
  "language_info": {
   "codemirror_mode": {
    "name": "ipython",
    "version": 3
   },
   "file_extension": ".py",
   "mimetype": "text/x-python",
   "name": "python",
   "nbconvert_exporter": "python",
   "pygments_lexer": "ipython3",
   "version": "3.6.4"
  }
 },
 "nbformat": 4,
 "nbformat_minor": 2
}
